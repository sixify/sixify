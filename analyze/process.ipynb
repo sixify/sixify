{
 "metadata": {
  "name": "",
  "signature": "sha256:ce3d39f394e54348c0763793a14037fc7ed4f29e421dbb2a9609b01d4ec34f87"
 },
 "nbformat": 3,
 "nbformat_minor": 0,
 "worksheets": [
  {
   "cells": [
    {
     "cell_type": "code",
     "collapsed": false,
     "input": [
      "\n",
      "import pandas\n",
      "import numpy\n",
      "import re\n",
      "\n",
      "from os import listdir\n",
      "from os.path import isfile, join\n",
      "\n",
      "fileList = [ f for f in listdir(\"./input_feeds/\") if isfile(join(\"./input_feeds/\",f)) ]\n",
      "\n",
      "for iFile in range(0, len(fileList)):\n",
      " print onlyfiles[i]\n",
      " \n"
     ],
     "language": "python",
     "metadata": {},
     "outputs": [
      {
       "output_type": "stream",
       "stream": "stdout",
       "text": [
        "sixify_bitstampCopy_btcusd.csv\n",
        "sixify_bitstamp_btcusd.csv\n"
       ]
      }
     ],
     "prompt_number": 36
    },
    {
     "cell_type": "code",
     "collapsed": false,
     "input": [
      "\n",
      "inputDataframe = pandas.read_csv(\"./input_feeds/sixify_bitstamp_btcusd.csv\")\n",
      "\n",
      "processedDataframe =  pandas.DataFrame( columns=['date', 'price', 'amount'])\n",
      "suffixOfProcessedFile = \"btcusd_mean.txt\"\n",
      "\n",
      "\n",
      "binningTime = 10*60 # 5 min\n",
      "\n",
      "numberOfBins = (max(inputDataframe.date)- min(inputDataframe.date))/binningTime \n",
      "\n",
      "bins = numpy.linspace(inputDataframe.date.max(),inputDataframe.date.min(),numberOfBins)\n",
      "\n",
      "timeStamps =  inputDataframe.date\n",
      "\n",
      "binnedInputDataframe = inputDataframe.groupby(numpy.digitize(timeStamps, bins))\n",
      "\n",
      "binnedInputDataframe = groups.mean()\n",
      "print binnedInputDataframe\n",
      "\n",
      "processedDataframe.amount = binnedInputDataframe.amount\n",
      "processedDataframe.price = binnedInputDataframe.price\n",
      "processedDataframe.date = bins\n",
      "\n",
      "print processedDataframe\n",
      "\n",
      "processedDataframe.to_json(\"../visualize/data/sixify_\"+suffixOfProcessedFile)\n"
     ],
     "language": "python",
     "metadata": {},
     "outputs": [
      {
       "output_type": "stream",
       "stream": "stdout",
       "text": [
        "   Unnamed: 0    amount          date       price             tid\n",
        "0         0.0  0.614687  1.426866e+09  262.520000  7784520.000000\n",
        "1        15.0  1.055155  1.426866e+09  262.488966  7784490.620690\n",
        "2        61.5  1.184196  1.426865e+09  262.277969  7784426.218750\n",
        "3       141.0  1.185883  1.426864e+09  262.198632  7784331.473684\n",
        "4       211.0  0.505902  1.426863e+09  261.780889  7784208.400000\n",
        "         date       price    amount\n",
        "0  1426866191  262.520000  0.614687\n",
        "1  1426865296  262.488966  1.055155\n",
        "2  1426864401  262.277969  1.184196\n",
        "3  1426863506  262.198632  1.185883\n",
        "4  1426862611  261.780889  0.505902\n"
       ]
      }
     ],
     "prompt_number": 23
    },
    {
     "cell_type": "code",
     "collapsed": false,
     "input": [],
     "language": "python",
     "metadata": {},
     "outputs": []
    }
   ],
   "metadata": {}
  }
 ]
}