{
 "metadata": {
  "name": "",
  "signature": "sha256:ef8095e174c6013d5281bb4b066e25e54f8bdd2f03567f286a41ccc52be90e88"
 },
 "nbformat": 3,
 "nbformat_minor": 0,
 "worksheets": [
  {
   "cells": [
    {
     "cell_type": "code",
     "collapsed": false,
     "input": [
      "\n",
      "import pandas\n",
      "import numpy\n",
      "import re\n",
      "\n",
      "from os import listdir\n",
      "from os.path import isfile, join\n",
      "\n",
      "fileList = [ f for f in listdir(\"./input_feeds/\") if isfile(join(\"./input_feeds/\",f)) ]\n",
      "\n",
      "#for iFile in range(0, len(fileList)):\n",
      " #print onlyfiles[i]\n",
      " \n"
     ],
     "language": "python",
     "metadata": {},
     "outputs": [],
     "prompt_number": 3
    },
    {
     "cell_type": "code",
     "collapsed": false,
     "input": [
      "\n",
      "inputDataframe = pandas.read_csv(\"./input_feeds/sixify_bitstamp_btcusd.csv\")\n",
      "\n",
      "processedDataframe =  pandas.DataFrame( columns=['date', 'price', 'amount'])\n",
      "suffixOfProcessedFile = \"btcusd_mean.txt\"\n",
      "\n",
      "\n",
      "binningTime = 10*60 # 5 min\n",
      "\n",
      "numberOfBins = (max(inputDataframe.date)- min(inputDataframe.date))/binningTime \n",
      "\n",
      "bins = numpy.linspace(inputDataframe.date.max(),inputDataframe.date.min(),numberOfBins)\n",
      "\n",
      "timeStamps =  inputDataframe.date\n",
      "\n",
      "binnedInputDataframe = inputDataframe.groupby(numpy.digitize(timeStamps, bins))\n",
      "\n",
      "binnedInputDataframe = binnedInputDataframe.mean\n",
      "print binnedInputDataframe\n",
      "\n",
      "processedDataframe.amount = binnedInputDataframe.amount\n",
      "processedDataframe.price = binnedInputDataframe.price\n",
      "processedDataframe.date = bins\n",
      "\n",
      "print processedDataframe\n",
      "\n",
      "processedDataframe.to_json(\"../visualize/data/sixify_\"+suffixOfProcessedFile)\n"
     ],
     "language": "python",
     "metadata": {},
     "outputs": [
      {
       "output_type": "stream",
       "stream": "stdout",
       "text": [
        "<bound method DataFrameGroupBy.mean of <pandas.core.groupby.DataFrameGroupBy object at 0x000000000A13C6A0>>\n"
       ]
      },
      {
       "ename": "AttributeError",
       "evalue": "'function' object has no attribute 'amount'",
       "output_type": "pyerr",
       "traceback": [
        "\u001b[1;31m---------------------------------------------------------------------------\u001b[0m\n\u001b[1;31mAttributeError\u001b[0m                            Traceback (most recent call last)",
        "\u001b[1;32m<ipython-input-14-bd56f3d35038>\u001b[0m in \u001b[0;36m<module>\u001b[1;34m()\u001b[0m\n\u001b[0;32m     19\u001b[0m \u001b[1;32mprint\u001b[0m \u001b[0mbinnedInputDataframe\u001b[0m\u001b[1;33m\u001b[0m\u001b[0m\n\u001b[0;32m     20\u001b[0m \u001b[1;33m\u001b[0m\u001b[0m\n\u001b[1;32m---> 21\u001b[1;33m \u001b[0mprocessedDataframe\u001b[0m\u001b[1;33m.\u001b[0m\u001b[0mamount\u001b[0m \u001b[1;33m=\u001b[0m \u001b[0mbinnedInputDataframe\u001b[0m\u001b[1;33m.\u001b[0m\u001b[0mamount\u001b[0m\u001b[1;33m\u001b[0m\u001b[0m\n\u001b[0m\u001b[0;32m     22\u001b[0m \u001b[0mprocessedDataframe\u001b[0m\u001b[1;33m.\u001b[0m\u001b[0mprice\u001b[0m \u001b[1;33m=\u001b[0m \u001b[0mbinnedInputDataframe\u001b[0m\u001b[1;33m.\u001b[0m\u001b[0mprice\u001b[0m\u001b[1;33m\u001b[0m\u001b[0m\n\u001b[0;32m     23\u001b[0m \u001b[0mprocessedDataframe\u001b[0m\u001b[1;33m.\u001b[0m\u001b[0mdate\u001b[0m \u001b[1;33m=\u001b[0m \u001b[0mbins\u001b[0m\u001b[1;33m\u001b[0m\u001b[0m\n",
        "\u001b[1;31mAttributeError\u001b[0m: 'function' object has no attribute 'amount'"
       ]
      }
     ],
     "prompt_number": 14
    },
    {
     "cell_type": "code",
     "collapsed": false,
     "input": [
      "print processedDataframe.price"
     ],
     "language": "python",
     "metadata": {},
     "outputs": [
      {
       "output_type": "stream",
       "stream": "stdout",
       "text": [
        "Series([], name: price, dtype: object)\n"
       ]
      }
     ],
     "prompt_number": 23
    },
    {
     "cell_type": "code",
     "collapsed": false,
     "input": [
      "print"
     ],
     "language": "python",
     "metadata": {},
     "outputs": [],
     "prompt_number": 17
    },
    {
     "cell_type": "code",
     "collapsed": false,
     "input": [],
     "language": "python",
     "metadata": {},
     "outputs": []
    }
   ],
   "metadata": {}
  }
 ]
}