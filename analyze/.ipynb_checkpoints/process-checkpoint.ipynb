{
 "metadata": {
  "name": "",
  "signature": "sha256:c8e34801b4ba1d63c30f6c34c004ad2963be9e9cb9af03188badcc0a6f19ab9f"
 },
 "nbformat": 3,
 "nbformat_minor": 0,
 "worksheets": [
  {
   "cells": [
    {
     "cell_type": "code",
     "collapsed": false,
     "input": [
      "\n",
      "import pandas\n",
      "import numpy\n",
      "import re\n",
      "\n",
      "from os import listdir\n",
      "from os.path import isfile, join\n",
      "\n",
      "fileList = [ f for f in listdir(\"./input_feeds/\") if isfile(join(\"./input_feeds/\",f)) ]\n",
      "\n",
      "#for iFile in range(0, len(fileList)):\n",
      " #print onlyfiles[i]\n",
      " \n"
     ],
     "language": "python",
     "metadata": {},
     "outputs": [],
     "prompt_number": 3
    },
    {
     "cell_type": "code",
     "collapsed": false,
     "input": [
      "\n",
      "inputDataframe = pandas.read_csv(\"./input_feeds/sixify_bitstamp_btcusd.csv\")\n",
      "\n",
      "processedDataframe =  pandas.DataFrame( columns=['date', 'price', 'amount'])\n",
      "suffixOfProcessedFile = \"btcusd_mean.txt\"\n",
      "\n",
      "\n",
      "binningTime = 10*60 # 5 min\n",
      "\n",
      "numberOfBins = (max(inputDataframe.date)- min(inputDataframe.date))/binningTime \n",
      "\n",
      "bins = numpy.linspace(inputDataframe.date.max(),inputDataframe.date.min(),numberOfBins)\n",
      "\n",
      "timeStamps =  inputDataframe.date\n",
      "\n",
      "binnedInputDataframe = inputDataframe.groupby(numpy.digitize(timeStamps, bins))\n",
      "\n",
      "binnedInputDataframe = binnedInputDataframe.std\n",
      "print binnedInputDataframe\n",
      "\n",
      "processedDataframe.amount = binnedInputDataframe.amount\n",
      "processedDataframe.price = binnedInputDataframe.price\n",
      "processedDataframe.date = bins\n",
      "\n",
      "print processedDataframe\n",
      "\n",
      "processedDataframe.to_json(\"../visualize/data/sixify_\"+suffixOfProcessedFile)\n"
     ],
     "language": "python",
     "metadata": {},
     "outputs": [
      {
       "ename": "TypeError",
       "evalue": "std() got an unexpected keyword argument 'axis'",
       "output_type": "pyerr",
       "traceback": [
        "\u001b[1;31m---------------------------------------------------------------------------\u001b[0m\n\u001b[1;31mTypeError\u001b[0m                                 Traceback (most recent call last)",
        "\u001b[1;32m<ipython-input-12-39c485b820ec>\u001b[0m in \u001b[0;36m<module>\u001b[1;34m()\u001b[0m\n\u001b[0;32m     16\u001b[0m \u001b[0mbinnedInputDataframe\u001b[0m \u001b[1;33m=\u001b[0m \u001b[0minputDataframe\u001b[0m\u001b[1;33m.\u001b[0m\u001b[0mgroupby\u001b[0m\u001b[1;33m(\u001b[0m\u001b[0mnumpy\u001b[0m\u001b[1;33m.\u001b[0m\u001b[0mdigitize\u001b[0m\u001b[1;33m(\u001b[0m\u001b[0mtimeStamps\u001b[0m\u001b[1;33m,\u001b[0m \u001b[0mbins\u001b[0m\u001b[1;33m)\u001b[0m\u001b[1;33m)\u001b[0m\u001b[1;33m\u001b[0m\u001b[0m\n\u001b[0;32m     17\u001b[0m \u001b[1;33m\u001b[0m\u001b[0m\n\u001b[1;32m---> 18\u001b[1;33m \u001b[0mbinnedInputDataframe\u001b[0m \u001b[1;33m=\u001b[0m \u001b[0mnumpy\u001b[0m\u001b[1;33m.\u001b[0m\u001b[0mstd\u001b[0m\u001b[1;33m(\u001b[0m\u001b[0mbinnedInputDataframe\u001b[0m\u001b[1;33m,\u001b[0m \u001b[0maxis\u001b[0m\u001b[1;33m=\u001b[0m\u001b[1;36m0\u001b[0m\u001b[1;33m)\u001b[0m\u001b[1;33m\u001b[0m\u001b[0m\n\u001b[0m\u001b[0;32m     19\u001b[0m \u001b[1;32mprint\u001b[0m \u001b[0mbinnedInputDataframe\u001b[0m\u001b[1;33m\u001b[0m\u001b[0m\n\u001b[0;32m     20\u001b[0m \u001b[1;33m\u001b[0m\u001b[0m\n",
        "\u001b[1;32mC:\\Users\\Artur\\Anaconda\\lib\\site-packages\\numpy\\core\\fromnumeric.pyc\u001b[0m in \u001b[0;36mstd\u001b[1;34m(a, axis, dtype, out, ddof, keepdims)\u001b[0m\n\u001b[0;32m   2821\u001b[0m         \u001b[1;32mtry\u001b[0m\u001b[1;33m:\u001b[0m\u001b[1;33m\u001b[0m\u001b[0m\n\u001b[0;32m   2822\u001b[0m             \u001b[0mstd\u001b[0m \u001b[1;33m=\u001b[0m \u001b[0ma\u001b[0m\u001b[1;33m.\u001b[0m\u001b[0mstd\u001b[0m\u001b[1;33m\u001b[0m\u001b[0m\n\u001b[1;32m-> 2823\u001b[1;33m             \u001b[1;32mreturn\u001b[0m \u001b[0mstd\u001b[0m\u001b[1;33m(\u001b[0m\u001b[0maxis\u001b[0m\u001b[1;33m=\u001b[0m\u001b[0maxis\u001b[0m\u001b[1;33m,\u001b[0m \u001b[0mdtype\u001b[0m\u001b[1;33m=\u001b[0m\u001b[0mdtype\u001b[0m\u001b[1;33m,\u001b[0m \u001b[0mout\u001b[0m\u001b[1;33m=\u001b[0m\u001b[0mout\u001b[0m\u001b[1;33m,\u001b[0m \u001b[0mddof\u001b[0m\u001b[1;33m=\u001b[0m\u001b[0mddof\u001b[0m\u001b[1;33m)\u001b[0m\u001b[1;33m\u001b[0m\u001b[0m\n\u001b[0m\u001b[0;32m   2824\u001b[0m         \u001b[1;32mexcept\u001b[0m \u001b[0mAttributeError\u001b[0m\u001b[1;33m:\u001b[0m\u001b[1;33m\u001b[0m\u001b[0m\n\u001b[0;32m   2825\u001b[0m             \u001b[1;32mpass\u001b[0m\u001b[1;33m\u001b[0m\u001b[0m\n",
        "\u001b[1;31mTypeError\u001b[0m: std() got an unexpected keyword argument 'axis'"
       ]
      }
     ],
     "prompt_number": 12
    },
    {
     "cell_type": "code",
     "collapsed": false,
     "input": [
      "binnedInputDataframe"
     ],
     "language": "python",
     "metadata": {},
     "outputs": [
      {
       "metadata": {},
       "output_type": "pyout",
       "prompt_number": 13,
       "text": [
        "<pandas.core.groupby.DataFrameGroupBy object at 0x0000000009E0ACF8>"
       ]
      }
     ],
     "prompt_number": 13
    },
    {
     "cell_type": "code",
     "collapsed": false,
     "input": [],
     "language": "python",
     "metadata": {},
     "outputs": []
    }
   ],
   "metadata": {}
  }
 ]
}